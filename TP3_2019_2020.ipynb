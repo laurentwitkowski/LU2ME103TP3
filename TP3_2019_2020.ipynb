{
 "cells": [
  {
   "cell_type": "markdown",
   "metadata": {
    "deletable": false,
    "editable": false,
    "nbgrader": {
     "cell_type": "markdown",
     "checksum": "7e8ae1cf323d255952ab72dab7fd05f0",
     "grade": false,
     "grade_id": "cell-9aefb382bb2af65f",
     "locked": true,
     "schema_version": 3,
     "solution": false,
     "task": false
    }
   },
   "source": [
    "# TP3 : Vectorisation"
   ]
  },
  {
   "cell_type": "markdown",
   "metadata": {
    "deletable": false,
    "editable": false,
    "nbgrader": {
     "cell_type": "markdown",
     "checksum": "a1501d1e737eed3eb1b380835ea43b6c",
     "grade": false,
     "grade_id": "cell-b61b12b0efabdadd",
     "locked": true,
     "schema_version": 3,
     "solution": false,
     "task": false
    }
   },
   "source": [
    "### Extraction d'éléments d'un tableau\n",
    "\n",
    "1. Créer une matrice A de dimensions 6x5, d'entiers tirés aléatoirement entre 2 et 15. Afficher A\n",
    "2. Extraire de la matrice A, la sous matrice 3x3 en ne récupérant que les éléments \"en bas\" et \"à droite\".\n",
    "3. Faire une matrice B à partir de la matrice A qui contient une ligne sur deux et une colonne sur deux de A en partant de la première ligne et de la première colonne.\n"
   ]
  },
  {
   "cell_type": "code",
   "execution_count": null,
   "metadata": {
    "deletable": false,
    "nbgrader": {
     "cell_type": "code",
     "checksum": "27ffc8464af0c0d3910b583f6d328518",
     "grade": true,
     "grade_id": "cell-25dc7cfc759fed33",
     "locked": false,
     "points": 0,
     "schema_version": 3,
     "solution": true,
     "task": false
    }
   },
   "outputs": [],
   "source": [
    "# Réponse \n"
   ]
  },
  {
   "cell_type": "markdown",
   "metadata": {
    "deletable": false,
    "editable": false,
    "nbgrader": {
     "cell_type": "markdown",
     "checksum": "82e4ee55792e00e886192a432054a806",
     "grade": false,
     "grade_id": "cell-7f98b249ddf72812",
     "locked": true,
     "schema_version": 3,
     "solution": false,
     "task": false
    }
   },
   "source": [
    "### Création de matrices\n",
    "\n",
    "1. Créer une matrice C (6x4) remplie avec la valeur 5.5\n",
    "2. Faire compter le nombre d'éléments de C\n",
    "3. Redimensionner la matrice C pour que ses nouvelles dimensions soient (3x8)\n",
    "4. Faire afficher le nombre de colonnes de C et le nombre de lignes\n",
    "5. Créer une matrice carrée D ayant sur sa diagonale le nombres impairs de 1 à 9 inclus.L'afficher"
   ]
  },
  {
   "cell_type": "code",
   "execution_count": null,
   "metadata": {
    "deletable": false,
    "nbgrader": {
     "cell_type": "code",
     "checksum": "145b1aa6ea466a990d7e3c8db29b184e",
     "grade": true,
     "grade_id": "cell-2a1f8c28ef03bd79",
     "locked": false,
     "points": 0,
     "schema_version": 3,
     "solution": true,
     "task": false
    }
   },
   "outputs": [],
   "source": [
    "# Réponse \n"
   ]
  },
  {
   "cell_type": "markdown",
   "metadata": {
    "deletable": false,
    "editable": false,
    "nbgrader": {
     "cell_type": "markdown",
     "checksum": "738d8acdfcaa04e57043ba70a20696ce",
     "grade": false,
     "grade_id": "cell-27cd4649c276f13f",
     "locked": true,
     "schema_version": 3,
     "solution": false,
     "task": false
    }
   },
   "source": [
    "### Manipulations de matrices\n",
    "\n",
    "1. Créer un vecteur vpair de 4 nombres consécutifs pairs en partant de 2.\n",
    "2. Créer un vecteur vimpair de 5 nombres consécutifs impairs en partant de 1\n",
    "3. Dupliquer le vecteur vpair pour créer une matrice VPAIR qui aura autant de lignes que d'élements dans vpair et autant de colonnes que d'éléments dans vimpair.\n",
    "4. Dupliquer le vecteur vimpair pour créer une matrice VIMPAIR qui aura autant de lignes que d'élements dans vpair et autant de colonnes que d'éléments dans vimpair.\n",
    "5. Faire une matrice VS qui est la somme de VPAIR et VIMPAIR \n",
    "6. Faire deux rotations à 90 de VS et stocker dans VS \n",
    "6. \"Retourner\" VPAIR pour inverser l'ordre des lignes : ligne 1 échange avec ligne 4, ligne 2  échange avec ligne3. \n",
    "7. \"Retourner\" VIMPAIR pour inverser l'ordre des colonnes\n",
    "7. Faire la somme de VPAIR et VIMPAIR puis soustraire VS "
   ]
  },
  {
   "cell_type": "code",
   "execution_count": null,
   "metadata": {
    "deletable": false,
    "nbgrader": {
     "cell_type": "code",
     "checksum": "1ed3a8414e7987217b70cf0372f59f47",
     "grade": true,
     "grade_id": "cell-351ea839f8b29015",
     "locked": false,
     "points": 0,
     "schema_version": 3,
     "solution": true,
     "task": false
    }
   },
   "outputs": [],
   "source": [
    "# Réponse \n"
   ]
  },
  {
   "cell_type": "markdown",
   "metadata": {
    "deletable": false,
    "editable": false,
    "nbgrader": {
     "cell_type": "markdown",
     "checksum": "5d0d2d0deb53b3e5815d5a1209931543",
     "grade": false,
     "grade_id": "cell-bcce36c9464d0a60",
     "locked": true,
     "schema_version": 3,
     "solution": false,
     "task": false
    }
   },
   "source": [
    "## Graphiques : répétitions de motifs avec et sans boucles\n",
    "\n",
    "* Écrire des scripts qui reproduisent approximativement les quatre graphiques suivants :\n",
    "    \n",
    "![Fonctions Trigo](https://perso.limsi.fr/witko/teaching/LU2ME103/sinus.png) \n",
    "![Fonctions Trigo](https://perso.limsi.fr/witko/teaching/LU2ME103/paraboles.png)\n",
    "![Fonctions Trigo](https://perso.limsi.fr/witko/teaching/LU2ME103/Vagues_sin.png) \n",
    "![Fonctions Trigo](https://perso.limsi.fr/witko/teaching/LU2ME103/cercles.png)\n"
   ]
  },
  {
   "cell_type": "code",
   "execution_count": null,
   "metadata": {
    "deletable": false,
    "nbgrader": {
     "cell_type": "code",
     "checksum": "1c1c963f0876220785a1cafc2fcf8569",
     "grade": true,
     "grade_id": "cell-f926da90b212b081",
     "locked": false,
     "points": 0,
     "schema_version": 3,
     "solution": true,
     "task": false
    }
   },
   "outputs": [],
   "source": [
    "# Réponse \n"
   ]
  },
  {
   "cell_type": "markdown",
   "metadata": {
    "deletable": false,
    "editable": false,
    "nbgrader": {
     "cell_type": "markdown",
     "checksum": "6c6bf7943fac29cd3b4fc55b698e0375",
     "grade": false,
     "grade_id": "cell-43f4d3f73fb00753",
     "locked": true,
     "schema_version": 3,
     "solution": false,
     "task": false
    }
   },
   "source": [
    "## Suites et séries : vectorisation\n",
    "\n",
    "La fonction np.cumsum qui sera utile dans les questions suivantes.\n",
    "\n",
    "### Constante d'Euler \n",
    "\n",
    "1) Calculer la constante d’Euler, c’est à dire la valeur du ”e” de l’exponentielle.\n",
    "   Cette valeur est définie ici par la limite d’une série. \n",
    "   \n",
    "   Utiliser la fonction scipy.special.factorial    (import scipy.special as sc)\n",
    "   \n",
    "\n",
    "\\begin{equation*} \n",
    "    e^x = 1 + x + \\frac{x^2}{2!} + \\frac{x^3}{3!} + \\dots + \\frac{x^k}{k!} + \\dots\n",
    "\\end{equation*}\n",
    "\n",
    "2) Tracer en échelle semilogy l'écart en valeur absolue à $e$ en fonction du nombre de termes retenus allant de 1 à 10."
   ]
  },
  {
   "cell_type": "code",
   "execution_count": null,
   "metadata": {
    "deletable": false,
    "nbgrader": {
     "cell_type": "code",
     "checksum": "12f97158779c371dfd431557d7dc0f9e",
     "grade": true,
     "grade_id": "cell-b3109247fe81dda0",
     "locked": false,
     "points": 0,
     "schema_version": 3,
     "solution": true,
     "task": false
    }
   },
   "outputs": [],
   "source": [
    "# EXERCICE CONVERGENCE DE LA SERIE DE e\n",
    "\n",
    "# np.math.factorial works on integers, it doesn't allow to compute the factorial of an array elementwise\n",
    "# we need to introduce the function scipy.special.factorial\n",
    "\n",
    "from scipy.special import factorial\n",
    "\n",
    "# Réponse \n",
    "\n"
   ]
  },
  {
   "cell_type": "markdown",
   "metadata": {
    "deletable": false,
    "editable": false,
    "nbgrader": {
     "cell_type": "markdown",
     "checksum": "1b74e85371beee778991b49c1f2074bf",
     "grade": false,
     "grade_id": "cell-867019ca86274d64",
     "locked": true,
     "schema_version": 3,
     "solution": false,
     "task": false
    }
   },
   "source": [
    "### Series pour Ln et Sinus      \n",
    "\n",
    "Dans le même esprit que pour le calcul de la constante d'Euler, pour les deux series programmées avec des boucles lors du TP2 (ln(x) et sin(x)),\n",
    "programmez les à nouveau mais **sans utiliser de boucles**. Refaites aussi les trois graphes demandés."
   ]
  },
  {
   "cell_type": "code",
   "execution_count": null,
   "metadata": {
    "deletable": false,
    "nbgrader": {
     "cell_type": "code",
     "checksum": "d98d11bfa8b31bff46beec0df4fd90e2",
     "grade": true,
     "grade_id": "cell-21191fddc470a2c2",
     "locked": false,
     "points": 0,
     "schema_version": 3,
     "solution": true,
     "task": false
    }
   },
   "outputs": [],
   "source": [
    "# SERIE LN(X)\n",
    "\n",
    "# Réponse \n"
   ]
  },
  {
   "cell_type": "code",
   "execution_count": null,
   "metadata": {
    "deletable": false,
    "nbgrader": {
     "cell_type": "code",
     "checksum": "0eb26994fcf196d34c543463a4cc5eb5",
     "grade": true,
     "grade_id": "cell-4d19842a45b9332c",
     "locked": false,
     "points": 0,
     "schema_version": 3,
     "solution": true,
     "task": false
    }
   },
   "outputs": [],
   "source": [
    "# SERIE SIN(X)\n",
    "\n",
    "# Réponse \n",
    "\n"
   ]
  }
 ],
 "metadata": {
  "kernelspec": {
   "display_name": "Python 3",
   "language": "python",
   "name": "python3"
  },
  "language_info": {
   "codemirror_mode": {
    "name": "ipython",
    "version": 3
   },
   "file_extension": ".py",
   "mimetype": "text/x-python",
   "name": "python",
   "nbconvert_exporter": "python",
   "pygments_lexer": "ipython3",
   "version": "3.6.9"
  }
 },
 "nbformat": 4,
 "nbformat_minor": 2
}
